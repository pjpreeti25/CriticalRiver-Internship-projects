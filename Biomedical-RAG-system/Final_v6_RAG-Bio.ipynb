{
 "cells": [
  {
   "cell_type": "markdown",
   "id": "d36ddbdf",
   "metadata": {},
   "source": [
    "## 1. Extract Text from PDFs"
   ]
  },
  {
   "cell_type": "code",
   "execution_count": 3,
   "id": "e073df59",
   "metadata": {},
   "outputs": [
    {
     "name": "stdout",
     "output_type": "stream",
     "text": [
      "Requirement already satisfied: pypdf in c:\\users\\preet\\anaconda3\\lib\\site-packages (6.0.0)\n"
     ]
    }
   ],
   "source": [
    "!pip install pypdf"
   ]
  },
  {
   "cell_type": "code",
   "execution_count": 5,
   "id": "343e6ae9",
   "metadata": {},
   "outputs": [
    {
     "name": "stdout",
     "output_type": "stream",
     "text": [
      "Loaded 13 documents.\n"
     ]
    }
   ],
   "source": [
    "import os\n",
    "from pypdf import PdfReader\n",
    "\n",
    "def extract_text_from_pdfs(pdf_folder):\n",
    "    docs = []\n",
    "    for filename in os.listdir(pdf_folder):\n",
    "        if filename.endswith('.pdf'):\n",
    "            path = os.path.join(pdf_folder, filename)\n",
    "            reader = PdfReader(path)\n",
    "            text = ''\n",
    "            for page in reader.pages:\n",
    "                text += page.extract_text() or ''\n",
    "            docs.append({'filename': filename, 'text': text})\n",
    "    return docs\n",
    "\n",
    "pdf_folder = 'papers'\n",
    "documents = extract_text_from_pdfs(pdf_folder)\n",
    "print(f'Loaded {len(documents)} documents.')"
   ]
  },
  {
   "cell_type": "markdown",
   "id": "6573ecb0",
   "metadata": {},
   "source": [
    "## 2. Chunk and Embed the Text"
   ]
  },
  {
   "cell_type": "code",
   "execution_count": 6,
   "id": "0eedeb45",
   "metadata": {},
   "outputs": [
    {
     "data": {
      "application/vnd.jupyter.widget-view+json": {
       "model_id": "406f6fc9365c4f20b0275a25bee35152",
       "version_major": 2,
       "version_minor": 0
      },
      "text/plain": [
       "Batches:   0%|          | 0/12 [00:00<?, ?it/s]"
      ]
     },
     "metadata": {},
     "output_type": "display_data"
    }
   ],
   "source": [
    "from sentence_transformers import SentenceTransformer\n",
    "import numpy as np\n",
    "import faiss\n",
    "\n",
    "def chunk_text(text, chunk_size=500, overlap=100):\n",
    "    words = text.split()\n",
    "    chunks = []\n",
    "    for i in range(0, len(words), chunk_size - overlap):\n",
    "        chunk = ' '.join(words[i:i+chunk_size])\n",
    "        if chunk: chunks.append(chunk)\n",
    "    return chunks\n",
    "\n",
    "all_chunks = []\n",
    "chunk_sources = []\n",
    "for doc in documents:\n",
    "    chunks = chunk_text(doc['text'])\n",
    "    all_chunks.extend(chunks)\n",
    "    chunk_sources.extend([doc['filename']] * len(chunks))\n",
    "\n",
    "# Use a biomedical embedding model for better retrieval\n",
    "model_embed = SentenceTransformer('pritamdeka/S-PubMedBert-MS-MARCO')\n",
    "embeddings = model_embed.encode(all_chunks, show_progress_bar=True)\n",
    "\n",
    "index = faiss.IndexFlatL2(embeddings.shape[1])\n",
    "index.add(np.array(embeddings))"
   ]
  },
  {
   "cell_type": "markdown",
   "id": "d439e826",
   "metadata": {},
   "source": [
    "## 3. Define the RAG QA Function (using a HuggingFace LLM)"
   ]
  },
  {
   "cell_type": "markdown",
   "id": "1e603ca1",
   "metadata": {},
   "source": [
    "### How the RAG Pipeline Works with Ollama\n",
    "- The notebook code handles all retrieval and prompt construction logic (RAG).\n",
    "- When you ask a question, the code retrieves the most relevant chunks from your PDFs using embeddings and FAISS.\n",
    "- These chunks are combined with your question to form a prompt.\n",
    "- The prompt is sent to the Ollama model (e.g., Mistral, Llama 2) running locally via REST API.\n",
    "- The model does not know it is part of a RAG pipeline; it simply receives the prompt and generates a response based on the provided context and question.\n",
    "- This allows you to use powerful local LLMs for answer generation, while your notebook controls the retrieval and context."
   ]
  },
  {
   "cell_type": "code",
   "execution_count": 8,
   "id": "318fd497",
   "metadata": {},
   "outputs": [],
   "source": [
    "import requests\n",
    "\n",
    "# Use Ollama REST API for answer generation with Mistral or Llama 2\n",
    "def ollama_rag_answer(question, top_k=2, max_context_chars=800, model=\"mistral\"):\n",
    "    q_emb = model_embed.encode([question])  # Use a different variable name for embedding model\n",
    "    D, I = index.search(np.array(q_emb), top_k)\n",
    "    context_chunks = [all_chunks[i] for i in I[0]]\n",
    "    sources = [chunk_sources[i] for i in I[0]]\n",
    "    context = '\\n'.join(context_chunks)\n",
    "    context = context[:max_context_chars]\n",
    "    print(\"Retrieved context:\\n\", context)\n",
    "    print(\"Sources (papers used):\", list(dict.fromkeys(sources)))\n",
    "    prompt = f\"Answer the question based on the context.\\nContext: {context}\\nQuestion: {question}\"\n",
    "    response = requests.post(\n",
    "        \"http://localhost:11434/api/generate\",\n",
    "        json={\"model\": model, \"prompt\": prompt, \"stream\": False}\n",
    "    )\n",
    "    \n",
    "    return (response.json()[\"response\"].strip())  "
   ]
  },
  {
   "cell_type": "code",
   "execution_count": 9,
   "id": "5e98fc62",
   "metadata": {},
   "outputs": [
    {
     "name": "stdout",
     "output_type": "stream",
     "text": [
      "Retrieved context:\n",
      " screened by Rag2Mol-R significantly outperform those selected by other advanced virtual screening tools, covering a broader chemical landscape. Thus, Rag2Mol-G fits targets with multiple binding templates, while Rag2Mol-R excels with traditionally “undruggable” targets. Furthermore, both workflows could identify promising drug candidates for the challenging case of PTPN2, outperforming current active site inhibitors. Finally , although we employ widely recognized autoregressive-based methods, almost all AI-based SBDD methods could be integrated into our framework. Meanwhile, each module of the protocol exhibits convenient extensibility . Materials and methods Overview of Rag2Mol We choose RAG architecture to incorporate prior chemical knowl- edge and topological rules into the generation p\n",
      "Sources (papers used): ['Paper_10.pdf', 'Paper_7.pdf']\n"
     ]
    },
    {
     "data": {
      "text/plain": [
       "'The Rag2Mol paper presents a novel method, utilizing Reinforced Autoencoder Graph (RAG) architecture, that incorporates prior chemical knowledge and topological rules to generate drug molecules. This approach outperforms other virtual screening tools, particularly excelling with traditionally \"undruggable\" targets, as demonstrated in the case of PTPN2.'"
      ]
     },
     "execution_count": 9,
     "metadata": {},
     "output_type": "execute_result"
    }
   ],
   "source": [
    "ollama_rag_answer(\"Summarize Rag2Mol paper in 2 sentences\")\n"
   ]
  },
  {
   "cell_type": "code",
   "execution_count": 10,
   "id": "09650c2d",
   "metadata": {},
   "outputs": [
    {
     "name": "stdout",
     "output_type": "stream",
     "text": [
      "Retrieved context:\n",
      " many diseases Downloaded from https://academic.oup.com/bib/article/25/4/bbae281/7691386 by guest on 12 August 2025 2 | Zhang et al. associated with GPCRs still lack approved drugs that can effectively modulate them, thus underscoring the enormous potential of GPCRs as novel targets for disease curing. Unfor- tunately , the limited availability of GPCR–ligand structures (below 500) [ 5] and the difficulty in obtaining reliable GPCR structures because of their embedding in the lipid membrane pose significant challenges for developing structure-based GPCR– ligand prediction models. It is worth noting that the unique properties of GPCRs compared to soluble proteins in protein– ligand binding further complicate the modeling process. In recent years, deep learning has emerged as a powerful tool \n",
      "Sources (papers used): ['Paper_12.pdf', 'Paper_8.pdf']\n"
     ]
    },
    {
     "data": {
      "text/plain": [
       "'The context does not explicitly mention specific experimental methods for determining GPCR structures. However, it is suggested that the limited availability of GPCR–ligand structures and the difficulty in obtaining reliable GPCR structures are major challenges due to their embedding in lipid membranes. Common experimental methods used to determine GPCR structures include X-ray crystallography, nuclear magnetic resonance (NMR) spectroscopy, and cryo-electron microscopy (Cryo-EM). These techniques can help overcome the challenges mentioned by providing structural information about GPCRs.'"
      ]
     },
     "execution_count": 10,
     "metadata": {},
     "output_type": "execute_result"
    }
   ],
   "source": [
    "ollama_rag_answer(\"Name the experimental methods names to determine GPCR structures\")\n"
   ]
  },
  {
   "cell_type": "markdown",
   "id": "9bc58838",
   "metadata": {},
   "source": [
    "## 4. Build a Simple Gradio UI"
   ]
  },
  {
   "cell_type": "code",
   "execution_count": 11,
   "id": "d74592e4",
   "metadata": {},
   "outputs": [
    {
     "name": "stdout",
     "output_type": "stream",
     "text": [
      "Requirement already satisfied: gradio in c:\\users\\preet\\anaconda3\\lib\\site-packages (5.42.0)\n",
      "Requirement already satisfied: aiofiles<25.0,>=22.0 in c:\\users\\preet\\anaconda3\\lib\\site-packages (from gradio) (24.1.0)\n",
      "Requirement already satisfied: anyio<5.0,>=3.0 in c:\\users\\preet\\anaconda3\\lib\\site-packages (from gradio) (4.2.0)\n",
      "Requirement already satisfied: brotli>=1.1.0 in c:\\users\\preet\\anaconda3\\lib\\site-packages (from gradio) (1.1.0)\n",
      "Requirement already satisfied: fastapi<1.0,>=0.115.2 in c:\\users\\preet\\anaconda3\\lib\\site-packages (from gradio) (0.116.1)\n",
      "Requirement already satisfied: ffmpy in c:\\users\\preet\\anaconda3\\lib\\site-packages (from gradio) (0.6.1)\n",
      "Requirement already satisfied: gradio-client==1.11.1 in c:\\users\\preet\\anaconda3\\lib\\site-packages (from gradio) (1.11.1)\n",
      "Requirement already satisfied: groovy~=0.1 in c:\\users\\preet\\anaconda3\\lib\\site-packages (from gradio) (0.1.2)\n",
      "Requirement already satisfied: httpx<1.0,>=0.24.1 in c:\\users\\preet\\anaconda3\\lib\\site-packages (from gradio) (0.27.2)\n",
      "Requirement already satisfied: huggingface-hub<1.0,>=0.33.5 in c:\\users\\preet\\anaconda3\\lib\\site-packages (from gradio) (0.34.4)\n",
      "Requirement already satisfied: jinja2<4.0 in c:\\users\\preet\\anaconda3\\lib\\site-packages (from gradio) (3.1.3)\n",
      "Requirement already satisfied: markupsafe<4.0,>=2.0 in c:\\users\\preet\\anaconda3\\lib\\site-packages (from gradio) (2.1.3)\n",
      "Requirement already satisfied: numpy<3.0,>=1.0 in c:\\users\\preet\\anaconda3\\lib\\site-packages (from gradio) (1.26.4)\n",
      "Requirement already satisfied: orjson~=3.0 in c:\\users\\preet\\anaconda3\\lib\\site-packages (from gradio) (3.11.2)\n",
      "Requirement already satisfied: packaging in c:\\users\\preet\\anaconda3\\lib\\site-packages (from gradio) (23.1)\n",
      "Requirement already satisfied: pandas<3.0,>=1.0 in c:\\users\\preet\\anaconda3\\lib\\site-packages (from gradio) (2.1.4)\n",
      "Requirement already satisfied: pillow<12.0,>=8.0 in c:\\users\\preet\\anaconda3\\lib\\site-packages (from gradio) (10.2.0)\n",
      "Requirement already satisfied: pydantic<2.12,>=2.0 in c:\\users\\preet\\anaconda3\\lib\\site-packages (from gradio) (2.11.7)\n",
      "Requirement already satisfied: pydub in c:\\users\\preet\\anaconda3\\lib\\site-packages (from gradio) (0.25.1)\n",
      "Requirement already satisfied: python-multipart>=0.0.18 in c:\\users\\preet\\anaconda3\\lib\\site-packages (from gradio) (0.0.20)\n",
      "Requirement already satisfied: pyyaml<7.0,>=5.0 in c:\\users\\preet\\anaconda3\\lib\\site-packages (from gradio) (6.0.1)\n",
      "Requirement already satisfied: ruff>=0.9.3 in c:\\users\\preet\\anaconda3\\lib\\site-packages (from gradio) (0.12.9)\n",
      "Requirement already satisfied: safehttpx<0.2.0,>=0.1.6 in c:\\users\\preet\\anaconda3\\lib\\site-packages (from gradio) (0.1.6)\n",
      "Requirement already satisfied: semantic-version~=2.0 in c:\\users\\preet\\anaconda3\\lib\\site-packages (from gradio) (2.10.0)\n",
      "Requirement already satisfied: starlette<1.0,>=0.40.0 in c:\\users\\preet\\anaconda3\\lib\\site-packages (from gradio) (0.47.2)\n",
      "Requirement already satisfied: tomlkit<0.14.0,>=0.12.0 in c:\\users\\preet\\anaconda3\\lib\\site-packages (from gradio) (0.13.3)\n",
      "Requirement already satisfied: typer<1.0,>=0.12 in c:\\users\\preet\\anaconda3\\lib\\site-packages (from gradio) (0.16.0)\n",
      "Requirement already satisfied: typing-extensions~=4.0 in c:\\users\\preet\\anaconda3\\lib\\site-packages (from gradio) (4.12.2)\n",
      "Requirement already satisfied: uvicorn>=0.14.0 in c:\\users\\preet\\anaconda3\\lib\\site-packages (from gradio) (0.35.0)\n",
      "Requirement already satisfied: fsspec in c:\\users\\preet\\anaconda3\\lib\\site-packages (from gradio-client==1.11.1->gradio) (2023.10.0)\n",
      "Requirement already satisfied: websockets<16.0,>=10.0 in c:\\users\\preet\\anaconda3\\lib\\site-packages (from gradio-client==1.11.1->gradio) (15.0.1)\n",
      "Requirement already satisfied: idna>=2.8 in c:\\users\\preet\\anaconda3\\lib\\site-packages (from anyio<5.0,>=3.0->gradio) (3.4)\n",
      "Requirement already satisfied: sniffio>=1.1 in c:\\users\\preet\\anaconda3\\lib\\site-packages (from anyio<5.0,>=3.0->gradio) (1.3.0)\n",
      "Requirement already satisfied: certifi in c:\\users\\preet\\anaconda3\\lib\\site-packages (from httpx<1.0,>=0.24.1->gradio) (2024.2.2)\n",
      "Requirement already satisfied: httpcore==1.* in c:\\users\\preet\\anaconda3\\lib\\site-packages (from httpx<1.0,>=0.24.1->gradio) (1.0.5)\n",
      "Requirement already satisfied: h11<0.15,>=0.13 in c:\\users\\preet\\anaconda3\\lib\\site-packages (from httpcore==1.*->httpx<1.0,>=0.24.1->gradio) (0.14.0)\n",
      "Requirement already satisfied: filelock in c:\\users\\preet\\anaconda3\\lib\\site-packages (from huggingface-hub<1.0,>=0.33.5->gradio) (3.13.1)\n",
      "Requirement already satisfied: requests in c:\\users\\preet\\anaconda3\\lib\\site-packages (from huggingface-hub<1.0,>=0.33.5->gradio) (2.31.0)\n",
      "Requirement already satisfied: tqdm>=4.42.1 in c:\\users\\preet\\anaconda3\\lib\\site-packages (from huggingface-hub<1.0,>=0.33.5->gradio) (4.65.0)\n",
      "Requirement already satisfied: python-dateutil>=2.8.2 in c:\\users\\preet\\anaconda3\\lib\\site-packages (from pandas<3.0,>=1.0->gradio) (2.8.2)\n",
      "Requirement already satisfied: pytz>=2020.1 in c:\\users\\preet\\anaconda3\\lib\\site-packages (from pandas<3.0,>=1.0->gradio) (2023.3.post1)\n",
      "Requirement already satisfied: tzdata>=2022.1 in c:\\users\\preet\\anaconda3\\lib\\site-packages (from pandas<3.0,>=1.0->gradio) (2023.3)\n",
      "Requirement already satisfied: annotated-types>=0.6.0 in c:\\users\\preet\\anaconda3\\lib\\site-packages (from pydantic<2.12,>=2.0->gradio) (0.7.0)\n",
      "Requirement already satisfied: pydantic-core==2.33.2 in c:\\users\\preet\\anaconda3\\lib\\site-packages (from pydantic<2.12,>=2.0->gradio) (2.33.2)\n",
      "Requirement already satisfied: typing-inspection>=0.4.0 in c:\\users\\preet\\anaconda3\\lib\\site-packages (from pydantic<2.12,>=2.0->gradio) (0.4.1)\n",
      "Requirement already satisfied: click>=8.0.0 in c:\\users\\preet\\anaconda3\\lib\\site-packages (from typer<1.0,>=0.12->gradio) (8.1.7)\n",
      "Requirement already satisfied: shellingham>=1.3.0 in c:\\users\\preet\\anaconda3\\lib\\site-packages (from typer<1.0,>=0.12->gradio) (1.5.4)\n",
      "Requirement already satisfied: rich>=10.11.0 in c:\\users\\preet\\anaconda3\\lib\\site-packages (from typer<1.0,>=0.12->gradio) (13.3.5)\n",
      "Requirement already satisfied: colorama in c:\\users\\preet\\anaconda3\\lib\\site-packages (from click>=8.0.0->typer<1.0,>=0.12->gradio) (0.4.6)\n",
      "Requirement already satisfied: six>=1.5 in c:\\users\\preet\\anaconda3\\lib\\site-packages (from python-dateutil>=2.8.2->pandas<3.0,>=1.0->gradio) (1.16.0)\n",
      "Requirement already satisfied: markdown-it-py<3.0.0,>=2.2.0 in c:\\users\\preet\\anaconda3\\lib\\site-packages (from rich>=10.11.0->typer<1.0,>=0.12->gradio) (2.2.0)\n",
      "Requirement already satisfied: pygments<3.0.0,>=2.13.0 in c:\\users\\preet\\anaconda3\\lib\\site-packages (from rich>=10.11.0->typer<1.0,>=0.12->gradio) (2.15.1)\n",
      "Requirement already satisfied: charset-normalizer<4,>=2 in c:\\users\\preet\\anaconda3\\lib\\site-packages (from requests->huggingface-hub<1.0,>=0.33.5->gradio) (2.0.4)\n",
      "Requirement already satisfied: urllib3<3,>=1.21.1 in c:\\users\\preet\\anaconda3\\lib\\site-packages (from requests->huggingface-hub<1.0,>=0.33.5->gradio) (1.26.6)\n",
      "Requirement already satisfied: mdurl~=0.1 in c:\\users\\preet\\anaconda3\\lib\\site-packages (from markdown-it-py<3.0.0,>=2.2.0->rich>=10.11.0->typer<1.0,>=0.12->gradio) (0.1.0)\n"
     ]
    }
   ],
   "source": [
    "!pip install gradio\n"
   ]
  },
  {
   "cell_type": "code",
   "execution_count": 56,
   "id": "b49e6f41",
   "metadata": {},
   "outputs": [
    {
     "name": "stdout",
     "output_type": "stream",
     "text": [
      "Requirement already satisfied: gradio in c:\\users\\preet\\anaconda3\\lib\\site-packages (5.42.0)\n",
      "Requirement already satisfied: huggingface_hub in c:\\users\\preet\\anaconda3\\lib\\site-packages (0.34.4)\n",
      "Requirement already satisfied: aiofiles<25.0,>=22.0 in c:\\users\\preet\\anaconda3\\lib\\site-packages (from gradio) (24.1.0)\n",
      "Requirement already satisfied: anyio<5.0,>=3.0 in c:\\users\\preet\\anaconda3\\lib\\site-packages (from gradio) (4.2.0)\n",
      "Requirement already satisfied: brotli>=1.1.0 in c:\\users\\preet\\anaconda3\\lib\\site-packages (from gradio) (1.1.0)\n",
      "Requirement already satisfied: fastapi<1.0,>=0.115.2 in c:\\users\\preet\\anaconda3\\lib\\site-packages (from gradio) (0.116.1)\n",
      "Requirement already satisfied: ffmpy in c:\\users\\preet\\anaconda3\\lib\\site-packages (from gradio) (0.6.1)\n",
      "Requirement already satisfied: gradio-client==1.11.1 in c:\\users\\preet\\anaconda3\\lib\\site-packages (from gradio) (1.11.1)\n",
      "Requirement already satisfied: groovy~=0.1 in c:\\users\\preet\\anaconda3\\lib\\site-packages (from gradio) (0.1.2)\n",
      "Requirement already satisfied: httpx<1.0,>=0.24.1 in c:\\users\\preet\\anaconda3\\lib\\site-packages (from gradio) (0.27.2)\n",
      "Requirement already satisfied: jinja2<4.0 in c:\\users\\preet\\anaconda3\\lib\\site-packages (from gradio) (3.1.3)\n",
      "Requirement already satisfied: markupsafe<4.0,>=2.0 in c:\\users\\preet\\anaconda3\\lib\\site-packages (from gradio) (2.1.3)\n",
      "Requirement already satisfied: numpy<3.0,>=1.0 in c:\\users\\preet\\anaconda3\\lib\\site-packages (from gradio) (1.26.4)\n",
      "Requirement already satisfied: orjson~=3.0 in c:\\users\\preet\\anaconda3\\lib\\site-packages (from gradio) (3.11.2)\n",
      "Requirement already satisfied: packaging in c:\\users\\preet\\anaconda3\\lib\\site-packages (from gradio) (23.1)\n",
      "Requirement already satisfied: pandas<3.0,>=1.0 in c:\\users\\preet\\anaconda3\\lib\\site-packages (from gradio) (2.1.4)\n",
      "Requirement already satisfied: pillow<12.0,>=8.0 in c:\\users\\preet\\anaconda3\\lib\\site-packages (from gradio) (10.2.0)\n",
      "Requirement already satisfied: pydantic<2.12,>=2.0 in c:\\users\\preet\\anaconda3\\lib\\site-packages (from gradio) (2.11.7)\n",
      "Requirement already satisfied: pydub in c:\\users\\preet\\anaconda3\\lib\\site-packages (from gradio) (0.25.1)\n",
      "Requirement already satisfied: python-multipart>=0.0.18 in c:\\users\\preet\\anaconda3\\lib\\site-packages (from gradio) (0.0.20)\n",
      "Requirement already satisfied: pyyaml<7.0,>=5.0 in c:\\users\\preet\\anaconda3\\lib\\site-packages (from gradio) (6.0.1)\n",
      "Requirement already satisfied: ruff>=0.9.3 in c:\\users\\preet\\anaconda3\\lib\\site-packages (from gradio) (0.12.9)\n",
      "Requirement already satisfied: safehttpx<0.2.0,>=0.1.6 in c:\\users\\preet\\anaconda3\\lib\\site-packages (from gradio) (0.1.6)\n",
      "Requirement already satisfied: semantic-version~=2.0 in c:\\users\\preet\\anaconda3\\lib\\site-packages (from gradio) (2.10.0)\n",
      "Requirement already satisfied: starlette<1.0,>=0.40.0 in c:\\users\\preet\\anaconda3\\lib\\site-packages (from gradio) (0.47.2)\n",
      "Requirement already satisfied: tomlkit<0.14.0,>=0.12.0 in c:\\users\\preet\\anaconda3\\lib\\site-packages (from gradio) (0.13.3)\n",
      "Requirement already satisfied: typer<1.0,>=0.12 in c:\\users\\preet\\anaconda3\\lib\\site-packages (from gradio) (0.16.0)\n",
      "Requirement already satisfied: typing-extensions~=4.0 in c:\\users\\preet\\anaconda3\\lib\\site-packages (from gradio) (4.12.2)\n",
      "Requirement already satisfied: uvicorn>=0.14.0 in c:\\users\\preet\\anaconda3\\lib\\site-packages (from gradio) (0.35.0)\n",
      "Requirement already satisfied: fsspec in c:\\users\\preet\\anaconda3\\lib\\site-packages (from gradio-client==1.11.1->gradio) (2023.10.0)\n",
      "Requirement already satisfied: websockets<16.0,>=10.0 in c:\\users\\preet\\anaconda3\\lib\\site-packages (from gradio-client==1.11.1->gradio) (15.0.1)\n",
      "Requirement already satisfied: filelock in c:\\users\\preet\\anaconda3\\lib\\site-packages (from huggingface_hub) (3.13.1)\n",
      "Requirement already satisfied: requests in c:\\users\\preet\\anaconda3\\lib\\site-packages (from huggingface_hub) (2.31.0)\n",
      "Requirement already satisfied: tqdm>=4.42.1 in c:\\users\\preet\\anaconda3\\lib\\site-packages (from huggingface_hub) (4.65.0)\n",
      "Requirement already satisfied: idna>=2.8 in c:\\users\\preet\\anaconda3\\lib\\site-packages (from anyio<5.0,>=3.0->gradio) (3.4)\n",
      "Requirement already satisfied: sniffio>=1.1 in c:\\users\\preet\\anaconda3\\lib\\site-packages (from anyio<5.0,>=3.0->gradio) (1.3.0)\n",
      "Requirement already satisfied: certifi in c:\\users\\preet\\anaconda3\\lib\\site-packages (from httpx<1.0,>=0.24.1->gradio) (2024.2.2)\n",
      "Requirement already satisfied: httpcore==1.* in c:\\users\\preet\\anaconda3\\lib\\site-packages (from httpx<1.0,>=0.24.1->gradio) (1.0.5)\n",
      "Requirement already satisfied: h11<0.15,>=0.13 in c:\\users\\preet\\anaconda3\\lib\\site-packages (from httpcore==1.*->httpx<1.0,>=0.24.1->gradio) (0.14.0)\n",
      "Requirement already satisfied: python-dateutil>=2.8.2 in c:\\users\\preet\\anaconda3\\lib\\site-packages (from pandas<3.0,>=1.0->gradio) (2.8.2)\n",
      "Requirement already satisfied: pytz>=2020.1 in c:\\users\\preet\\anaconda3\\lib\\site-packages (from pandas<3.0,>=1.0->gradio) (2023.3.post1)\n",
      "Requirement already satisfied: tzdata>=2022.1 in c:\\users\\preet\\anaconda3\\lib\\site-packages (from pandas<3.0,>=1.0->gradio) (2023.3)\n",
      "Requirement already satisfied: annotated-types>=0.6.0 in c:\\users\\preet\\anaconda3\\lib\\site-packages (from pydantic<2.12,>=2.0->gradio) (0.7.0)\n",
      "Requirement already satisfied: pydantic-core==2.33.2 in c:\\users\\preet\\anaconda3\\lib\\site-packages (from pydantic<2.12,>=2.0->gradio) (2.33.2)\n",
      "Requirement already satisfied: typing-inspection>=0.4.0 in c:\\users\\preet\\anaconda3\\lib\\site-packages (from pydantic<2.12,>=2.0->gradio) (0.4.1)\n",
      "Requirement already satisfied: colorama in c:\\users\\preet\\anaconda3\\lib\\site-packages (from tqdm>=4.42.1->huggingface_hub) (0.4.6)\n",
      "Requirement already satisfied: click>=8.0.0 in c:\\users\\preet\\anaconda3\\lib\\site-packages (from typer<1.0,>=0.12->gradio) (8.1.7)\n",
      "Requirement already satisfied: shellingham>=1.3.0 in c:\\users\\preet\\anaconda3\\lib\\site-packages (from typer<1.0,>=0.12->gradio) (1.5.4)\n",
      "Requirement already satisfied: rich>=10.11.0 in c:\\users\\preet\\anaconda3\\lib\\site-packages (from typer<1.0,>=0.12->gradio) (13.3.5)\n",
      "Requirement already satisfied: charset-normalizer<4,>=2 in c:\\users\\preet\\anaconda3\\lib\\site-packages (from requests->huggingface_hub) (2.0.4)\n",
      "Requirement already satisfied: urllib3<3,>=1.21.1 in c:\\users\\preet\\anaconda3\\lib\\site-packages (from requests->huggingface_hub) (1.26.6)\n",
      "Requirement already satisfied: six>=1.5 in c:\\users\\preet\\anaconda3\\lib\\site-packages (from python-dateutil>=2.8.2->pandas<3.0,>=1.0->gradio) (1.16.0)\n",
      "Requirement already satisfied: markdown-it-py<3.0.0,>=2.2.0 in c:\\users\\preet\\anaconda3\\lib\\site-packages (from rich>=10.11.0->typer<1.0,>=0.12->gradio) (2.2.0)\n",
      "Requirement already satisfied: pygments<3.0.0,>=2.13.0 in c:\\users\\preet\\anaconda3\\lib\\site-packages (from rich>=10.11.0->typer<1.0,>=0.12->gradio) (2.15.1)\n",
      "Requirement already satisfied: mdurl~=0.1 in c:\\users\\preet\\anaconda3\\lib\\site-packages (from markdown-it-py<3.0.0,>=2.2.0->rich>=10.11.0->typer<1.0,>=0.12->gradio) (0.1.0)\n"
     ]
    }
   ],
   "source": [
    "!pip install --upgrade gradio huggingface_hub\n"
   ]
  },
  {
   "cell_type": "code",
   "execution_count": 13,
   "id": "e5987b89",
   "metadata": {},
   "outputs": [
    {
     "name": "stdout",
     "output_type": "stream",
     "text": [
      "* Running on local URL:  http://127.0.0.1:7863\n",
      "* Running on public URL: https://e73aa738dbc97991e0.gradio.live\n",
      "\n",
      "This share link expires in 1 week. For free permanent hosting and GPU upgrades, run `gradio deploy` from the terminal in the working directory to deploy to Hugging Face Spaces (https://huggingface.co/spaces)\n",
      "* Running on public URL: https://e73aa738dbc97991e0.gradio.live\n",
      "\n",
      "This share link expires in 1 week. For free permanent hosting and GPU upgrades, run `gradio deploy` from the terminal in the working directory to deploy to Hugging Face Spaces (https://huggingface.co/spaces)\n"
     ]
    },
    {
     "data": {
      "text/html": [
       "<div><iframe src=\"https://e73aa738dbc97991e0.gradio.live\" width=\"100%\" height=\"500\" allow=\"autoplay; camera; microphone; clipboard-read; clipboard-write;\" frameborder=\"0\" allowfullscreen></iframe></div>"
      ],
      "text/plain": [
       "<IPython.core.display.HTML object>"
      ]
     },
     "metadata": {},
     "output_type": "display_data"
    },
    {
     "data": {
      "text/plain": []
     },
     "execution_count": 13,
     "metadata": {},
     "output_type": "execute_result"
    }
   ],
   "source": [
    "import gradio as gr\n",
    "\n",
    "def gradio_rag_interface(question):\n",
    "    try:\n",
    "        q_emb = model_embed.encode([question])\n",
    "        D, I = index.search(np.array(q_emb), 2)  # top_k=2\n",
    "        context_chunks = [all_chunks[i] for i in I[0]]\n",
    "        sources = [chunk_sources[i] for i in I[0]]\n",
    "        context = \"\\n\".join(context_chunks)[:800]\n",
    "\n",
    "        prompt = f\"Answer the question based on the context.\\nContext: {context}\\nQuestion: {question}\"\n",
    "        response = requests.post(\n",
    "            \"http://localhost:11434/api/generate\",\n",
    "            json={\"model\": \"mistral\", \"prompt\": prompt, \"stream\": False}\n",
    "        )\n",
    "        answer = response.json()[\"response\"].strip()\n",
    "\n",
    "        # Return answer + unique sources\n",
    "        unique_sources = list(dict.fromkeys(sources))\n",
    "        return answer, \", \".join(unique_sources)\n",
    "\n",
    "    except Exception as e:\n",
    "        return f\"Error: {str(e)}\", \"\"\n",
    "\n",
    "with gr.Blocks() as demo:\n",
    "    gr.Markdown(\"## 📄 RAG Bio Papers QA\")\n",
    "\n",
    "    with gr.Row():\n",
    "        question_box = gr.Textbox(label=\"Ask a question about your papers\")\n",
    "\n",
    "    with gr.Row():\n",
    "        answer_box = gr.Textbox(label=\"Answer\", lines=8)\n",
    "    \n",
    "    with gr.Row():\n",
    "        sources_box = gr.Textbox(label=\"Sources\", lines=2)\n",
    "\n",
    "    ask_btn = gr.Button(\"Get Answer\")\n",
    "\n",
    "    ask_btn.click(\n",
    "        fn=gradio_rag_interface,\n",
    "        inputs=question_box,\n",
    "        outputs=[answer_box, sources_box]\n",
    "    )\n",
    "\n",
    "demo.launch(share=True)\n"
   ]
  }
 ],
 "metadata": {
  "kernelspec": {
   "display_name": "base",
   "language": "python",
   "name": "python3"
  },
  "language_info": {
   "codemirror_mode": {
    "name": "ipython",
    "version": 3
   },
   "file_extension": ".py",
   "mimetype": "text/x-python",
   "name": "python",
   "nbconvert_exporter": "python",
   "pygments_lexer": "ipython3",
   "version": "3.11.7"
  }
 },
 "nbformat": 4,
 "nbformat_minor": 5
}
